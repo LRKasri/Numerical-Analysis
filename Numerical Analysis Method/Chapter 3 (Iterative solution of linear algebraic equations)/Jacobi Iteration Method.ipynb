{
 "cells": [
  {
   "cell_type": "code",
   "execution_count": 1,
   "metadata": {},
   "outputs": [],
   "source": [
    "import numpy as np\n",
    "\n",
    "def dj(fs,length):\n",
    "    return np.identity(length)*fs"
   ]
  },
  {
   "cell_type": "code",
   "execution_count": 2,
   "metadata": {},
   "outputs": [
    {
     "name": "stdout",
     "output_type": "stream",
     "text": [
      "[[ 3.  -1.   0.   0.   0.   0.5]\n",
      " [-1.   3.  -1.   0.   0.5  0. ]\n",
      " [ 0.  -1.   3.  -1.   0.   0. ]\n",
      " [ 0.   0.  -1.   3.  -1.   0. ]\n",
      " [ 0.   0.5  0.  -1.   3.  -1. ]\n",
      " [ 0.5  0.   0.   0.  -1.   3. ]]\n"
     ]
    }
   ],
   "source": [
    "A=np.array([[3,-1,0,0,0,0.5],[-1,3,-1,0,0.5,0],[0,-1,3,-1,0,0],[0,0,-1,3,-1,0],[0,0.5,0,-1,3,-1],[0.5,0,0,0,-1,3]],dtype = float)\n",
    "B = np.array([2.5,1.5,1,1,1.5,2.5],dtype = float)\n",
    "C = np.column_stack((A,B))\n",
    "shA = A.shape\n",
    "key=0\n",
    "\n",
    "\n",
    "fs = np.zeros(shA,dtype = float)\n",
    "\n",
    "for j in range(0,shA[0]-1):\n",
    "    if j != 0:    \n",
    "        A[j-1]=0\n",
    "    t=A.T\n",
    "    if np.amax(abs(t[j]))==0:\n",
    "        key = 1\n",
    "        print(\"Can not be solved by Jacobi Iteration Method\")\n",
    "        break\n",
    "    else:\n",
    "        mi = np.argmax(abs(t[j]))\n",
    "        A[[mi,j],:] = A[[j,mi],:]\n",
    "        fs[j]=A[j]\n",
    "\n",
    "if key == 0:\n",
    "    fs[shA[0]-1]=A[shA[0]-1] \n",
    "\n",
    "print(fs)\n"
   ]
  },
  {
   "cell_type": "code",
   "execution_count": 5,
   "metadata": {},
   "outputs": [
    {
     "name": "stdout",
     "output_type": "stream",
     "text": [
      "35\n",
      "[1. 1. 1. 1. 1. 1.]\n"
     ]
    }
   ],
   "source": [
    "D = dj(fs,shA[0])\n",
    "U = np.triu(fs,1)\n",
    "L = np.tril(fs,-1)\n",
    "rev = np.linalg.inv(D)\n",
    "\n",
    "N = 50 #iteration times\n",
    "\n",
    "x = np.zeros(6).T\n",
    "\n",
    "for i in range(1,N):\n",
    "    x = np.dot(np.dot(rev,(-L-U)),x)+np.dot(rev,B.T)\n",
    "    res = abs(x-1)\n",
    "    if max(res) < 0.000000001:\n",
    "        print(i)\n",
    "        break\n",
    "print(x)"
   ]
  }
 ],
 "metadata": {
  "interpreter": {
   "hash": "1f4e2586e5a6d6889e3909cb4f666e4a3b86cd8136bc2a53eb4134155ec8c592"
  },
  "kernelspec": {
   "display_name": "Python 3.9.7 64-bit ('py39': conda)",
   "name": "python3"
  },
  "language_info": {
   "codemirror_mode": {
    "name": "ipython",
    "version": 3
   },
   "file_extension": ".py",
   "mimetype": "text/x-python",
   "name": "python",
   "nbconvert_exporter": "python",
   "pygments_lexer": "ipython3",
   "version": "3.9.7"
  },
  "orig_nbformat": 4
 },
 "nbformat": 4,
 "nbformat_minor": 2
}
