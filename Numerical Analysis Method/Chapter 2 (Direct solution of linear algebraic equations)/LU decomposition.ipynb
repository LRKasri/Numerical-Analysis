{
 "cells": [
  {
   "cell_type": "code",
   "execution_count": 1,
   "metadata": {},
   "outputs": [
    {
     "name": "stdout",
     "output_type": "stream",
     "text": [
      "[ 1. -1.  0.  2.  1. -1.  0.  2.]\n"
     ]
    }
   ],
   "source": [
    "def LU(B):\n",
    "    n=len(B[0])\n",
    "    L = np.zeros([n,n])\n",
    "    U = np.zeros([n,n])\n",
    "    for i in range(n):\n",
    "        L[i][i]=1\n",
    "        if i==0:\n",
    "            U[0][0] = B[0][0]\n",
    "            for j in range(1,n):\n",
    "                U[0][j]=B[0][j]\n",
    "                L[j][0]=B[j][0]/U[0][0]\n",
    "        else:\n",
    "                for j in range(i, n):\n",
    "                    temp=0\n",
    "                    for k in range(0, i):\n",
    "                        temp = temp+L[i][k] * U[k][j]\n",
    "                    U[i][j]=B[i][j]-temp\n",
    "                for j in range(i+1, n):\n",
    "                    temp = 0\n",
    "                    for k in range(0, i ):\n",
    "                        temp = temp + L[j][k] * U[k][i]\n",
    "                    L[j][i] = (B[j][i] - temp)/U[i][i]\n",
    "    return L,U\n",
    "\n",
    "import numpy as np\n",
    "A = np.array([[4,2,-4,0,2,4,0,0,0],[2,2,-1,-2,1,3,2,0,-6],[-4,-1,14,1,-8,-3,5,6,6],[0,-2,1,6,-1,-4,-3,3,23],[2,1,-8,-1,22,4,-10,-3,11],[4,3,-3,-4,4,11,1,-4,-22],[0,2,5,-3,-10,1,14,2,-15],[0,0,6,3,-3,-4,2,19,45]],dtype=float)\n",
    "shA = A.shape\n",
    "B = A.T[0:8]\n",
    "B = B.T\n",
    "if np.linalg.det(B)== 0:\n",
    "    print(\"No unique result\")\n",
    "\n",
    "else:\n",
    "    L,U=LU(B)\n",
    "    result = np.array([0,-6,6,23,11,-22,-15,45],dtype=float)\n",
    "    L = np.column_stack((L,result))\n",
    "    y = np.array([0,0,0,0,0,0,0,0,0],dtype=float)\n",
    "    for i in range(0,shA[0]):\n",
    "        xi=0\n",
    "        xi= (L[i,8]-np.dot(y.T,L[i]))/L[i,i]\n",
    "        y[i]=xi\n",
    "    U = np.column_stack((U,y[0:8]))\n",
    "    x = np.array([0,0,0,0,0,0,0,0,0],dtype = float)\n",
    "    for i in range(0,shA[0])[::-1]:\n",
    "        xi=0\n",
    "        xi= (U[i,8]-np.dot(x.T,U[i]))/U[i,i]\n",
    "        x[i]=xi\n",
    "    print(x[0:8].T)\n",
    "    \n",
    "\n",
    "    "
   ]
  }
 ],
 "metadata": {
  "interpreter": {
   "hash": "1f4e2586e5a6d6889e3909cb4f666e4a3b86cd8136bc2a53eb4134155ec8c592"
  },
  "kernelspec": {
   "display_name": "Python 3.9.7 64-bit ('py39': conda)",
   "name": "python3"
  },
  "language_info": {
   "codemirror_mode": {
    "name": "ipython",
    "version": 3
   },
   "file_extension": ".py",
   "mimetype": "text/x-python",
   "name": "python",
   "nbconvert_exporter": "python",
   "pygments_lexer": "ipython3",
   "version": "3.9.7"
  },
  "orig_nbformat": 4
 },
 "nbformat": 4,
 "nbformat_minor": 2
}
