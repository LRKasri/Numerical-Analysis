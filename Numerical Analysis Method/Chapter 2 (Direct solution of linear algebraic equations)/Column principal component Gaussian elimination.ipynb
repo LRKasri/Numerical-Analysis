{
 "cells": [
  {
   "cell_type": "code",
   "execution_count": 3,
   "metadata": {},
   "outputs": [
    {
     "name": "stdout",
     "output_type": "stream",
     "text": [
      "[ 1.00000000e+00 -1.00000000e+00  4.06024420e-15  2.00000000e+00\n",
      "  1.00000000e+00 -1.00000000e+00  1.22926595e-15  2.00000000e+00]\n",
      "[ 1 -1  0  2  1 -1  0  2]\n"
     ]
    }
   ],
   "source": [
    "import numpy as np\n",
    "A = np.array([[4,2,-4,0,2,4,0,0,0],[2,2,-1,-2,1,3,2,0,-6],[-4,-1,14,1,-8,-3,5,6,6],[0,-2,1,6,-1,-4,-3,3,23],[2,1,-8,-1,22,4,-10,-3,11],[4,3,-3,-4,4,11,1,-4,-22],[0,2,5,-3,-10,1,14,2,-15],[0,0,6,3,-3,-4,2,19,45]], dtype = float)\n",
    "shA =A.shape\n",
    "key = 0\n",
    "fs = np.zeros(shA,dtype = float)\n",
    "\n",
    "for j in range(0,shA[0]-1):\n",
    "    if j != 0:    \n",
    "        A[j-1]=0\n",
    "    t=A.T\n",
    "    if np.amax(abs(t[j]))==0:\n",
    "        key = 1\n",
    "        print(\"Can not be solved\")\n",
    "        break\n",
    "    else:\n",
    "        mi = np.argmax(abs(t[j]))\n",
    "        A[[mi,j],:] = A[[j,mi],:] \n",
    "        for i in range(j+1,shA[0]):\n",
    "            A[i]=A[i]-(A[i,j]/A[j,j])*A[j]\n",
    "        fs[j]=A[j]\n",
    "\n",
    "if key == 0:\n",
    "    fs[shA[0]-1]=A[shA[0]-1]  \n",
    "    answer = np.zeros((shA[1]),dtype = float)\n",
    "    for i in range(0,shA[0])[::-1]:\n",
    "        xi=0\n",
    "        xi= (fs[i,shA[1]-1]-np.dot(answer.T,fs[i]))/fs[i,i]\n",
    "        answer[i]=xi\n",
    "    print(answer[0:shA[1]-1])\n",
    "\n",
    "    for i in range(0,8):\n",
    "        answer[i]=round(answer[i])\n",
    "    print(answer.astype(int)[0:8].T)  #simplify answer\n"
   ]
  }
 ],
 "metadata": {
  "interpreter": {
   "hash": "1f4e2586e5a6d6889e3909cb4f666e4a3b86cd8136bc2a53eb4134155ec8c592"
  },
  "kernelspec": {
   "display_name": "Python 3.9.7 64-bit ('py39': conda)",
   "name": "python3"
  },
  "language_info": {
   "codemirror_mode": {
    "name": "ipython",
    "version": 3
   },
   "file_extension": ".py",
   "mimetype": "text/x-python",
   "name": "python",
   "nbconvert_exporter": "python",
   "pygments_lexer": "ipython3",
   "version": "3.9.7"
  },
  "orig_nbformat": 4
 },
 "nbformat": 4,
 "nbformat_minor": 2
}
