{
 "cells": [
  {
   "cell_type": "code",
   "execution_count": 23,
   "metadata": {},
   "outputs": [
    {
     "name": "stdout",
     "output_type": "stream",
     "text": [
      "[ 1. -1.  0.  2.  1. -1.  0.  2.]\n"
     ]
    }
   ],
   "source": [
    "import numpy as np\n",
    "A = np.array([[4,2,-4,0,2,4,0,0,0],[2,2,-1,-2,1,3,2,0,-6],[-4,-1,14,1,-8,-3,5,6,6],[0,-2,1,6,-1,-4,-3,3,23],[2,1,-8,-1,22,4,-10,-3,11],[4,3,-3,-4,4,11,1,-4,-22],[0,2,5,-3,-10,1,14,2,-15],[0,0,6,3,-3,-4,2,19,45]],dtype=float)\n",
    "shA = A.shape\n",
    "key = 0\n",
    "for j in range(0,shA[0]):\n",
    "    if A[j][j]==0:\n",
    "        print(\"Can not be solved\")\n",
    "        key = 1\n",
    "        break\n",
    "    for i in range(j+1,shA[0]):\n",
    "        A[i]=A[i]-(A[i,j]/A[j,j])*A[j]\n",
    "answer = np.array([0,0,0,0,0,0,0,0,0],dtype=float)\n",
    "if key == 0:\n",
    "    for i in range(0,shA[0])[::-1]:\n",
    "        xi=0\n",
    "        xi= (A[i,8]-np.dot(answer.T,A[i]))/A[i,i]\n",
    "        answer[i]=xi\n",
    "    print(answer[0:8].T)"
   ]
  }
 ],
 "metadata": {
  "interpreter": {
   "hash": "c79e609e52f5907c722ccf075a11b527d2d073f25f95147bd52577d76795f8f1"
  },
  "kernelspec": {
   "display_name": "Python 3.9.7 64-bit ('py39': conda)",
   "name": "python3"
  },
  "language_info": {
   "codemirror_mode": {
    "name": "ipython",
    "version": 3
   },
   "file_extension": ".py",
   "mimetype": "text/x-python",
   "name": "python",
   "nbconvert_exporter": "python",
   "pygments_lexer": "ipython3",
   "version": "3.9.7"
  },
  "orig_nbformat": 4
 },
 "nbformat": 4,
 "nbformat_minor": 2
}
