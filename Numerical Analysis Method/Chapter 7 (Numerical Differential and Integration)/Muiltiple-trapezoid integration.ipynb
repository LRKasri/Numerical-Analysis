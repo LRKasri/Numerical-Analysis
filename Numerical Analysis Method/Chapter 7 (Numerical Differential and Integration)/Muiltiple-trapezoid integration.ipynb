{
 "cells": [
  {
   "cell_type": "code",
   "execution_count": 1,
   "metadata": {},
   "outputs": [],
   "source": [
    "import numpy as np\n",
    "a=0\n",
    "b=1\n",
    "input = 400\n",
    "\n",
    "def f(x):\n",
    "    return 4/(1+x**2)\n",
    "\n",
    "t00 = (b-a)/2 * (f(a)+f(b))\n",
    "lth = b-a\n",
    "\n",
    "Tif = 0\n",
    "\n"
   ]
  },
  {
   "cell_type": "code",
   "execution_count": 2,
   "metadata": {},
   "outputs": [
    {
     "name": "stdout",
     "output_type": "stream",
     "text": [
      "Output: 3.141585246182386 \n",
      " n: 150 \n",
      "\n"
     ]
    }
   ],
   "source": [
    "for i in range(1,input):\n",
    "    h = lth/i\n",
    "    temp1 = np.arange(i+1)\n",
    "    temp1 = temp1 * h + a\n",
    "    temp2 = np.sum(f(temp1))\n",
    "    Ti = h/2 *(2*temp2-f(a)-f(b))\n",
    "    if abs(Ti-Tif) <= 10**(-7):\n",
    "        print(\"Output:\",Ti,\"\\n\",\"n:\",i,\"\\n\")\n",
    "        break\n",
    "    Tif = Ti"
   ]
  }
 ],
 "metadata": {
  "interpreter": {
   "hash": "1f4e2586e5a6d6889e3909cb4f666e4a3b86cd8136bc2a53eb4134155ec8c592"
  },
  "kernelspec": {
   "display_name": "Python 3.9.7 64-bit ('py39': conda)",
   "language": "python",
   "name": "python3"
  },
  "language_info": {
   "codemirror_mode": {
    "name": "ipython",
    "version": 3
   },
   "file_extension": ".py",
   "mimetype": "text/x-python",
   "name": "python",
   "nbconvert_exporter": "python",
   "pygments_lexer": "ipython3",
   "version": "3.9.7"
  },
  "orig_nbformat": 4
 },
 "nbformat": 4,
 "nbformat_minor": 2
}
