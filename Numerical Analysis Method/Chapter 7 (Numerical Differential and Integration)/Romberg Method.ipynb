{
 "cells": [
  {
   "cell_type": "code",
   "execution_count": 1,
   "metadata": {},
   "outputs": [],
   "source": [
    "import numpy as np\n",
    "a=0\n",
    "b=1\n",
    "input = 7"
   ]
  },
  {
   "cell_type": "code",
   "execution_count": 2,
   "metadata": {},
   "outputs": [],
   "source": [
    "def f(x):\n",
    "    return 4/(1+x**2)"
   ]
  },
  {
   "cell_type": "code",
   "execution_count": 3,
   "metadata": {},
   "outputs": [],
   "source": [
    "t00 = (b-a)/2 * (f(a)+f(b))\n",
    "lth = b-a"
   ]
  },
  {
   "cell_type": "code",
   "execution_count": 4,
   "metadata": {},
   "outputs": [
    {
     "data": {
      "text/plain": [
       "'\\ninit = np.zeros((4,4))\\ninit[0,0]=t00\\nfor i in range(1,4):\\n    temp1 = np.ones((2**(i-1),1))\\n    temp2 = np.arange(2**(i-1)).reshape(2**(i-1),1)\\n    temp2 = (temp2+1)*2-1\\n    temp3 = np.column_stack((temp1,temp2))\\n    temp4 = np.array([a,(b-a)/(2**i)])\\n    init[i,0] = 0.5*init[i-1,0]+ lth/(2**i) * np.sum(f(np.dot(temp3,temp4.T)))\\n'"
      ]
     },
     "execution_count": 4,
     "metadata": {},
     "output_type": "execute_result"
    }
   ],
   "source": [
    "\"\"\"\n",
    "init = np.zeros((4,4))\n",
    "init[0,0]=t00\n",
    "for i in range(1,4):\n",
    "    temp1 = np.ones((2**(i-1),1))\n",
    "    temp2 = np.arange(2**(i-1)).reshape(2**(i-1),1)\n",
    "    temp2 = (temp2+1)*2-1\n",
    "    temp3 = np.column_stack((temp1,temp2))\n",
    "    temp4 = np.array([a,(b-a)/(2**i)])\n",
    "    init[i,0] = 0.5*init[i-1,0]+ lth/(2**i) * np.sum(f(np.dot(temp3,temp4.T)))\n",
    "\"\"\"\n"
   ]
  },
  {
   "cell_type": "code",
   "execution_count": 5,
   "metadata": {},
   "outputs": [
    {
     "data": {
      "text/plain": [
       "'\\nfor k in range(1,4):\\n    for m in range(1,4):\\n        if k-m >=0:\\n            init[k,m] = (4**m)/((4**m)-1) * init[k,m-1] - 1/((4**m)-1) * init[k-1,m-1]\\nprint(init)\\n'"
      ]
     },
     "execution_count": 5,
     "metadata": {},
     "output_type": "execute_result"
    }
   ],
   "source": [
    "\"\"\"\n",
    "for k in range(1,4):\n",
    "    for m in range(1,4):\n",
    "        if k-m >=0:\n",
    "            init[k,m] = (4**m)/((4**m)-1) * init[k,m-1] - 1/((4**m)-1) * init[k-1,m-1]\n",
    "print(init)\n",
    "\"\"\""
   ]
  },
  {
   "cell_type": "code",
   "execution_count": 6,
   "metadata": {},
   "outputs": [
    {
     "name": "stdout",
     "output_type": "stream",
     "text": [
      "Output: 3.1415926536382437 \n",
      " k: 5\n"
     ]
    }
   ],
   "source": [
    "for itr in range(2,input):\n",
    "    init = np.zeros((itr,itr))\n",
    "    init[0,0]=t00\n",
    "    for i in range(1,itr):\n",
    "        temp1 = np.ones((2**(i-1),1))\n",
    "        temp2 = np.arange(2**(i-1)).reshape(2**(i-1),1)\n",
    "        temp2 = (temp2+1)*2-1\n",
    "        temp3 = np.column_stack((temp1,temp2))\n",
    "        temp4 = np.array([a,(b-a)/(2**i)])\n",
    "        init[i,0] = 0.5*init[i-1,0]+ lth/(2**i) * np.sum(f(np.dot(temp3,temp4.T)))\n",
    "    for k in range(1,itr):\n",
    "        for m in range(1,itr):\n",
    "            if k-m >=0:\n",
    "                init[k,m] = (4**m)/((4**m)-1) * init[k,m-1] - 1/((4**m)-1) * init[k-1,m-1]\n",
    "    if abs(init[itr-1,itr-1]- init[itr-2,itr-2]) <= 10**(-7):\n",
    "        print(\"Output:\",init[itr-1,itr-1],\"\\n\",\"k:\",i)\n",
    "        break"
   ]
  }
 ],
 "metadata": {
  "interpreter": {
   "hash": "1f4e2586e5a6d6889e3909cb4f666e4a3b86cd8136bc2a53eb4134155ec8c592"
  },
  "kernelspec": {
   "display_name": "Python 3.9.7 64-bit ('py39': conda)",
   "language": "python",
   "name": "python3"
  },
  "language_info": {
   "codemirror_mode": {
    "name": "ipython",
    "version": 3
   },
   "file_extension": ".py",
   "mimetype": "text/x-python",
   "name": "python",
   "nbconvert_exporter": "python",
   "pygments_lexer": "ipython3",
   "version": "3.9.7"
  },
  "orig_nbformat": 4
 },
 "nbformat": 4,
 "nbformat_minor": 2
}
